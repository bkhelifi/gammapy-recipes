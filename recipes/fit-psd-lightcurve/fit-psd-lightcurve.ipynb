{
 "cells": [
  {
   "cell_type": "markdown",
   "id": "b4ca33d6-129c-4a59-89d7-f57e39cacfc0",
   "metadata": {},
   "source": [
    "# Generating synthetic lightcurves and fitting the power spectral density of a lightcurve #\n",
    "\n",
    "This notebook presents the advanced Emmanoulopoulos algorithm for the simulation of synthetic lightcurves. The original paper describing the algorithm is linked [here](https://arxiv.org/pdf/1305.0304.pdf). The version implemented here is compatible with the Gammapy implementation of the Timmer-Koenig algorithm.\n",
    "The Timmer-Koenig algorithm generates synthetic lightcurve from a chosen power spectral density (PSD) shape. However, it can only generate time series with a gaussian probability density function (PDF). This is adequate for high-statistics astrophysical domains such as the optical or X-rays, but can be in issue when trying to reproduce curves in the gamma-ray domain, where photon counts are lower and statistics are generally Poissonian. The Emmanoulopoulos algorithm tries to solve this issue, combining a requested PSD and PDF in the simulation. It provides accurate synthetic lightcurves in a range of spectral indexes between -1 and -2 for power-law or similar PSDs.\n",
    "\n",
    "Together with the simulation algorithm the notebook adds a function to compute the PSD envelope for a lightcurve using either the Timmer-Koenig or the Emmanoulopoulos algorithm. This envelope is then used to fit the PSD fot he observed lightcurve, by passing through a tailored chi-squared-like cost function. This complex fitting is necessary to account for the fact that the periodogram of the observed lightcurve is only a possible realization of the PSD model, moreover convoluted with Poissonian noise and instrumental responses. This can lead to biases or deformation due to random fluctuation of the realization if extracted with a simple curve fit of the periodogram.\n",
    "\n",
    "The results are satisfactory for power-law or broken-power-law PSDs in a physical interval of spectral indexes, between -1 and -2. Using the Emmanoulopoulos algorithm shows consistently better PSD reconstruction over the Timmer-Koenig - this is due to the injected non-gaussian PDF."
   ]
  },
  {
   "cell_type": "markdown",
   "id": "b693b292-fa5c-4afa-b013-464389e4092a",
   "metadata": {},
   "source": [
    "## Imports ##\n",
    "\n",
    "The first step is importing some usual packages, needed Astropy utilities, scipy tools for PDFs and minimization, and Gammapy functions and classes for the observational part."
   ]
  },
  {
   "cell_type": "code",
   "execution_count": null,
   "id": "4678c090-734e-430d-a81e-ff77cf5ef8a0",
   "metadata": {},
   "outputs": [],
   "source": [
    "import numpy as np\n",
    "from pathlib import Path\n",
    "import matplotlib.pyplot as plt\n",
    "import inspect\n",
    "\n",
    "import astropy.units as u\n",
    "from astropy.coordinates import SkyCoord, AltAz\n",
    "\n",
    "from regions import PointSkyRegion\n",
    "\n",
    "from gammapy.estimators import LightCurveEstimator, FluxPoints\n",
    "from gammapy.makers import SpectrumDatasetMaker\n",
    "from gammapy.data import Observation, observatory_locations, FixedPointingInfo\n",
    "from gammapy.datasets import Datasets, SpectrumDataset\n",
    "from gammapy.irf import load_irf_dict_from_file\n",
    "from gammapy.maps import MapAxis, RegionGeom, TimeMapAxis, RegionNDMap\n",
    "from gammapy.modeling.models import SkyModel, PowerLawSpectralModel, LightCurveTemplateTemporalModel\n",
    "from gammapy.estimators.utils import compute_lightcurve_fvar\n",
    "from gammapy.utils.random import get_random_state\n",
    "\n",
    "from scipy.optimize import minimize\n",
    "from scipy.signal import periodogram\n",
    "from scipy.stats import lognorm"
   ]
  },
  {
   "cell_type": "markdown",
   "id": "6ff44b6c-f786-4f7d-bf7c-c27cac5a78dc",
   "metadata": {},
   "source": [
    "## Reference Lightcurve ##\n",
    "\n",
    "As a reference, the notebook uses the H.E.S.S. dataset for the PKS2155 AGN flare of 2006. Data properties such as mean and standard deviation fo the norm, number of points, sampling frequency, are taken from this flare. The synthetic lightcurve will be oversampled by a factor 10."
   ]
  },
  {
   "cell_type": "code",
   "execution_count": null,
   "id": "330ee851-fcc3-47ad-8b1a-e5bd06d78869",
   "metadata": {},
   "outputs": [],
   "source": [
    "lc_path = Path(\"$GAMMAPY_DATA/estimators/\")\n",
    "lc_filename = \"pks2155_hess_lc/pks2155_hess_lc.fits\"\n",
    "\n",
    "lc = FluxPoints.read(lc_path/lc_filename, format=\"lightcurve\")\n",
    "odata = lc.norm.data.flatten()\n",
    "omean = odata.mean()\n",
    "ostd = odata.std()\n",
    "npoints = len(lc.norm.data)*10\n",
    "times = lc.geom.axes[\"time\"].edges\n",
    "tref = lc.geom.axes[\"time\"].reference_time\n",
    "smax = np.diff(times).max()/10\n",
    "lc.plot()\n",
    "plt.show()"
   ]
  },
  {
   "cell_type": "markdown",
   "id": "530fa958-3965-4753-a119-21af155999df",
   "metadata": {},
   "source": [
    "## Function definition ##\n",
    "\n",
    "Some simple function definitions for PSD and PDF models, with their default parameters."
   ]
  },
  {
   "cell_type": "code",
   "execution_count": null,
   "id": "d68f9022-debe-4a0f-b484-f23c7fa04de4",
   "metadata": {},
   "outputs": [],
   "source": [
    "def emm_gammalognorm(x, wgamma, a, s, loc, scale):\n",
    "    return wgamma*gamma.pdf(x, a) + (1-wgamma)*lognorm.pdf(x, s, loc, scale)"
   ]
  },
  {
   "cell_type": "code",
   "execution_count": null,
   "id": "9b95c838-5a0e-4739-90aa-53b91bd712e1",
   "metadata": {},
   "outputs": [],
   "source": [
    "def bpl(x, norm, aup, adn, x0):\n",
    "    return norm*(x**(-adn))/(1+((x/x0)**(aup-adn)))"
   ]
  },
  {
   "cell_type": "code",
   "execution_count": null,
   "id": "cadd0727-4527-40eb-99ca-b802a9306b71",
   "metadata": {},
   "outputs": [],
   "source": [
    "def pl(x, index):\n",
    "    return x**index"
   ]
  },
  {
   "cell_type": "code",
   "execution_count": null,
   "id": "8b70ce94-ba71-43ef-80be-70b15e1a1d6f",
   "metadata": {},
   "outputs": [],
   "source": [
    "bpl_params = {\"norm\":1, \"aup\":2.4, \"adn\":3, \"x0\":0.1}\n",
    "gl_params = {\"wgamma\":0.82,\"a\":5.67, \"s\":0.31, \"loc\":2.14, \"scale\":1}\n",
    "ln_params = {'s': 0.5, 'loc': 1.5, 'scale': 1}\n",
    "pl_params = {\"index\": -1.4}"
   ]
  },
  {
   "cell_type": "markdown",
   "id": "25dd6825-abbb-436e-9c12-b4886daf5c05",
   "metadata": {},
   "source": [
    "## The Emmanoulopoulos algorithm ##\n",
    "\n",
    "The algorithm requires a PDF and PSD shape, the number of points to simulate and spacing between the points (as an astropy Quantity). Optionally can be passed: parameters for the PSD and PDF, random state for reproducibility, maximum number of iterations for the internal loop, number of chunk factor by which the length is multiplicated to avoid red noise leakage, target mean and standard deviation of the time series, whether to add poissonian noise internally to simulate observational effects."
   ]
  },
  {
   "cell_type": "code",
   "execution_count": null,
   "id": "6570bb6c",
   "metadata": {},
   "outputs": [],
   "source": [
    "def TimmerKonig_lightcurve_simulator(\n",
    "    power_spectrum,\n",
    "    npoints,\n",
    "    spacing,\n",
    "    nchunks=10,\n",
    "    random_state=\"random-seed\",\n",
    "    power_spectrum_params=None,\n",
    "    mean=0.0,\n",
    "    std=1.0,\n",
    "    poisson=False,\n",
    "):\n",
    "\n",
    "    if not callable(power_spectrum):\n",
    "        raise ValueError(\n",
    "            \"The power spectrum has to be provided as a callable function.\"\n",
    "        )\n",
    "\n",
    "    if not isinstance(npoints * nchunks, int):\n",
    "        raise TypeError(\"npoints and nchunks must be integers\")\n",
    "\n",
    "    if poisson:\n",
    "        if isinstance(mean, u.Quantity):\n",
    "            wmean = mean.value * spacing.value\n",
    "        else:\n",
    "            wmean = mean * spacing.value\n",
    "        if wmean < 1.0:\n",
    "            raise Warning(\n",
    "                \"Poisson noise was requested but the target mean is too low - resulting counts will likely be 0.\"\n",
    "            )\n",
    "\n",
    "    random_state = get_random_state(random_state)\n",
    "\n",
    "    npoints_ext = npoints * nchunks\n",
    "\n",
    "    frequencies = np.fft.fftfreq(npoints_ext, spacing.value)\n",
    "\n",
    "    # To obtain real data only the positive or negative part of the frequency is necessary.\n",
    "    real_frequencies = np.sort(np.abs(frequencies[frequencies < 0]))\n",
    "\n",
    "    if power_spectrum_params:\n",
    "        periodogram = power_spectrum(real_frequencies, **power_spectrum_params)\n",
    "    else:\n",
    "        periodogram = power_spectrum(real_frequencies)\n",
    "\n",
    "    real_part = random_state.normal(0, 1, len(periodogram) - 1)\n",
    "    imaginary_part = random_state.normal(0, 1, len(periodogram) - 1)\n",
    "\n",
    "    # Nyquist frequency component handling\n",
    "    if npoints_ext % 2 == 0:\n",
    "        idx0 = -2\n",
    "        random_factor = random_state.normal(0, 1)\n",
    "    else:\n",
    "        idx0 = -1\n",
    "        random_factor = random_state.normal(0, 1) + 1j * random_state.normal(0, 1)\n",
    "\n",
    "    fourier_coeffs = np.concatenate(\n",
    "        [\n",
    "            np.sqrt(0.5 * periodogram[:-1]) * (real_part + 1j * imaginary_part),\n",
    "            np.sqrt(0.5 * periodogram[-1:]) * random_factor,\n",
    "        ]\n",
    "    )\n",
    "    fourier_coeffs = np.concatenate(\n",
    "        [fourier_coeffs, np.conjugate(fourier_coeffs[idx0::-1])]\n",
    "    )\n",
    "\n",
    "    fourier_coeffs = np.insert(fourier_coeffs, 0, 0)\n",
    "    time_series = np.fft.ifft(fourier_coeffs).real\n",
    "\n",
    "    ndiv = npoints_ext // (2 * nchunks)\n",
    "    setstart = npoints_ext // 2 - ndiv\n",
    "    setend = npoints_ext // 2 + ndiv\n",
    "    if npoints % 2 != 0:\n",
    "        setend = setend + 1\n",
    "    time_series = time_series[setstart:setend]\n",
    "\n",
    "    time_series = (time_series - time_series.mean()) / time_series.std()\n",
    "    time_series = time_series * std + mean\n",
    "\n",
    "    if poisson:\n",
    "        time_series = (\n",
    "            random_state.poisson(\n",
    "                np.where(time_series >= 0, time_series, 0) * spacing.value\n",
    "            )\n",
    "            / spacing.value\n",
    "        )\n",
    "\n",
    "    time_axis = np.linspace(0, npoints * spacing.value, npoints) * spacing.unit\n",
    "\n",
    "    return time_series, time_axis\n"
   ]
  },
  {
   "cell_type": "code",
   "execution_count": null,
   "id": "58c4545b-8713-4c40-9f80-e495c3299633",
   "metadata": {},
   "outputs": [],
   "source": [
    "def Emmanoulopoulos_lightcurve_simulator(pdf, psd, npoints, spacing, pdf_params=None, psd_params=None, random_state=\"random-seed\", imax = 1000, nchunks=10, mean=0.0, std=1.0, poisson=False):\n",
    "    \n",
    "    target_cps = 0.2\n",
    "    lc_norm, taxis = TimmerKonig_lightcurve_simulator(psd, npoints, spacing, nchunks = nchunks, power_spectrum_params=psd_params, random_state=random_state)\n",
    "\n",
    "    random_state = get_random_state(random_state)\n",
    "    \n",
    "    fft_norm = np.fft.rfft(lc_norm)\n",
    "\n",
    "    a_norm = np.abs(fft_norm)/npoints\n",
    "    phi_norm = np.angle(fft_norm)\n",
    "\n",
    "    if \"scale\" in pdf_params: scale = pdf_params.get(\"scale\")\n",
    "    else: scale = 1\n",
    "    \n",
    "    xx = np.linspace(0, scale*10, 1000)\n",
    "    lc_sim = np.interp(random_state.rand(npoints), np.cumsum(pdf(xx, **pdf_params))/np.sum(pdf(xx, **pdf_params)), xx)\n",
    "    lc_sim = (lc_sim - lc_sim.mean())/lc_sim.std()\n",
    "\n",
    "    nconv = True\n",
    "    i=0\n",
    "    while nconv and i<imax:\n",
    "        i+=1\n",
    "        fft_sim = np.fft.rfft(lc_sim)\n",
    "        a_sim = np.abs(fft_sim)/npoints\n",
    "        phi_sim = np.angle(fft_sim)\n",
    "        fft_adj = a_norm * np.exp(1j * phi_sim)\n",
    "        lc_adj = np.fft.irfft(fft_adj, npoints)\n",
    "        if  np.array_equal(np.argsort(lc_sim),np.argsort(lc_adj)): nconv=False\n",
    "        lc_adj[np.argsort(lc_adj)] = lc_sim[np.argsort(lc_sim)]\n",
    "        lc_sim = lc_adj\n",
    "\n",
    "    lc_sim = (lc_sim - lc_sim.mean()) / lc_sim.std()\n",
    "    lc_sim = lc_sim * std + mean\n",
    "\n",
    "    if poisson:\n",
    "        \n",
    "        lc_sim = (\n",
    "            random_state.poisson(\n",
    "                np.where(lc_sim >= 0, lc_sim, 0) * spacing.decompose().value*target_cps\n",
    "            )\n",
    "            / (spacing.decompose().value*target_cps)\n",
    "        )\n",
    "    \n",
    "    return lc_sim, taxis"
   ]
  },
  {
   "cell_type": "markdown",
   "id": "6bbdf21a-5463-4730-b1bd-4f72fbd4b029",
   "metadata": {},
   "source": [
    "## Envelope and fitting ##\n",
    "\n",
    "The envelope function returns a set of periodogram extracted from a number of simulations nsims that use the same parameters.\n",
    "\n",
    "These envelopes can then be used via the x2_fit function to fit the requested PSD to an observed periodogram."
   ]
  },
  {
   "cell_type": "code",
   "execution_count": null,
   "id": "4d6c825e-1d05-46fc-beeb-4cfd3f2a0d42",
   "metadata": {},
   "outputs": [],
   "source": [
    "def lightcurve_psd_envelope(psd, npoints, spacing, pdf=None, nsims=10000, pdf_params=None, psd_params=None, simulator=\"TK\", mean=0., std=1., oversample=10, poisson=False):\n",
    "    npoints_ext = npoints*oversample\n",
    "    spacing_ext = spacing/oversample\n",
    "    if simulator== \"TK\" : tseries, taxis = TimmerKonig_lightcurve_simulator(psd, npoints_ext, spacing_ext, power_spectrum_params=psd_params, mean=mean, std=std, poisson=poisson)\n",
    "    elif simulator== \"EMM\": tseries, taxis = Emmanoulopoulos_lightcurve_simulator(pdf, psd, npoints_ext, spacing_ext, pdf_params=pdf_params, psd_params=psd_params, mean=mean, std=std, poisson=poisson)\n",
    "    freqs, pg = periodogram(tseries, 1/spacing_ext.value)\n",
    "    envelopes_psd = np.empty((nsims, npoints//2))\n",
    "    envelopes_psd[0] = pg[1:npoints//2+1]\n",
    "    \n",
    "    for _ in range(1, nsims):\n",
    "        if simulator== \"TK\" : tseries, taxis = TimmerKonig_lightcurve_simulator(psd, npoints_ext, spacing_ext, power_spectrum_params=psd_params, mean=mean, std=std, poisson=poisson)\n",
    "        else: tseries, taxis = Emmanoulopoulos_lightcurve_simulator(pdf, psd, npoints_ext, spacing_ext, pdf_params=pdf_params, psd_params=psd_params, mean=mean, std=std, poisson=poisson)\n",
    "\n",
    "        freqs, pg = periodogram(tseries, 1/spacing_ext.value)\n",
    "        envelopes_psd[_] = pg[1:npoints//2+1]\n",
    "\n",
    "    return envelopes_psd, freqs[1:npoints//2+1]"
   ]
  },
  {
   "cell_type": "code",
   "execution_count": null,
   "id": "068ae572-491e-44f4-9835-24c9db07ec2f",
   "metadata": {},
   "outputs": [],
   "source": [
    "def x2_fit(psd_params_list, pgram, npoints, spacing, psd, pdf=None, pdf_params=None, simulator=\"TK\", nsims=10000, mean=None, std=None, poisson=False):\n",
    "\n",
    "    psd_params_keys = list(inspect.signature(psd).parameters.keys())\n",
    "\n",
    "    if len(psd_params_keys[1:]) != len(psd_params_list): raise ValueError(\"parameter values do not correspond to the request from the psd function\")\n",
    "    \n",
    "    psd_params = dict(zip(psd_params_keys[1:], psd_params_list))\n",
    "    \n",
    "    envelopes, freqs = lightcurve_psd_envelope(psd, npoints, spacing, pdf=pdf, pdf_params=pdf_params, psd_params=psd_params, simulator=simulator, nsims=nsims, mean=mean, std=std, poisson=poisson)\n",
    "    \n",
    "    if len(envelopes[0])!= len(pgram): raise ValueError(\"required length is different than data length!\")\n",
    "    \n",
    "    obs = (pgram - envelopes.mean(axis=0))**2/envelopes.std(axis=0)**2\n",
    "    sim = (envelopes - envelopes.mean(axis=0))**2/envelopes.std(axis=0)**2\n",
    "    sumobs = np.sum(obs)\n",
    "    sumsim = np.sum(sim, axis=-1)\n",
    "    sign = len(np.where(sumobs>=sumsim)[0])/nsims\n",
    "    \n",
    "    return sign"
   ]
  },
  {
   "cell_type": "markdown",
   "id": "78dd6fa2-c725-42b8-a854-5eefaaec5be2",
   "metadata": {},
   "source": [
    "## Simulation ##\n",
    "\n",
    "The simulation call for the algorithm. Both the TK and EMM algorithms are called with the same power-law PSD. The EMM algorithm uses a lognormal PDF. The difference between TK and EMM algorithms is shown in the leftmost and rightmost plot, where the gaussian vs lognormal shape is evident. The middle plot shows the perfect compatibility in the periodogram. Seed is fixed for reproducibility. "
   ]
  },
  {
   "cell_type": "code",
   "execution_count": null,
   "id": "9fa4aa20-d5e4-4352-8a7c-6348d5c882cc",
   "metadata": {},
   "outputs": [],
   "source": [
    "%%time\n",
    "seed = 532019\n",
    "#seed = \"random-seed\"\n",
    "lctk2, taxis2 = Emmanoulopoulos_lightcurve_simulator(lognorm.pdf, pl, npoints, smax, pdf_params=ln_params, psd_params=pl_params,mean =omean, std=ostd,random_state=seed)\n",
    "lctk, taxis = TimmerKonig_lightcurve_simulator(pl, npoints, smax, power_spectrum_params=pl_params,mean =omean, std=ostd,random_state=seed)\n",
    "freqstk, pgramtk = periodogram(lctk, 1/smax.value)\n",
    "freqstk2, pgramtk2 = periodogram(lctk2, 1/smax.value)\n",
    "fig, (ax1, ax2, ax3) = plt.subplots(1, 3, figsize=(15,3))\n",
    "ax1.plot(taxis, lctk)\n",
    "ax2.loglog(freqstk[1:], pgramtk[1:])\n",
    "ax3.hist(lctk)\n",
    "ax1.plot(taxis2, lctk2)\n",
    "ax2.loglog(freqstk2[1:], pgramtk2[1:])\n",
    "ax3.hist(lctk2)\n",
    "coeff = np.polyfit(np.log(freqstk[1:]), np.log(pgramtk[1:]), 1)\n",
    "coeff2 = np.polyfit(np.log(freqstk2[1:]), np.log(pgramtk2[1:]), 1)\n",
    "\n",
    "print(coeff, coeff2)"
   ]
  },
  {
   "cell_type": "markdown",
   "id": "592cd9e0-55d1-4bbf-93f4-e873b011d43d",
   "metadata": {},
   "source": [
    "## Gammapy setup and simulation ##\n",
    "\n",
    "Setup of geometry for the Gammapy simulation. Generic setup for pointing, energy binning, and IRFs. For realistic simulations, choose IRFs that are consistent with the instrument and observational conditions."
   ]
  },
  {
   "cell_type": "code",
   "execution_count": null,
   "id": "79fc7316-39ef-490d-9cf9-d714afe9249e",
   "metadata": {},
   "outputs": [],
   "source": [
    "TimeMapAxis.time_format = \"iso\"\n",
    "\n",
    "path = Path(\"$GAMMAPY_DATA/cta-caldb\")\n",
    "irf_filename = \"Prod5-South-20deg-AverageAz-14MSTs37SSTs.180000s-v0.1.fits.gz\"\n",
    "\n",
    "irfs = load_irf_dict_from_file(path / irf_filename)\n",
    "\n",
    "energy_axis = MapAxis.from_energy_bounds(\n",
    "    energy_min=0.1 * u.TeV, energy_max=100 * u.TeV, nbin=1\n",
    ")\n",
    "\n",
    "energy_axis_true = MapAxis.from_edges(\n",
    "    np.logspace(-1.2, 2.0, 31), unit=\"TeV\", name=\"energy_true\", interp=\"log\"\n",
    ")\n",
    "\n",
    "time_axis = MapAxis.from_nodes(taxis, name=\"time\", interp=\"lin\")\n",
    "\n",
    "geom = RegionGeom.create(\"galactic;circle(107.65, -40.17, 5)\", axes=[energy_axis])\n",
    "\n",
    "pointing_position = SkyCoord(107.65, -40.17, unit=\"deg\", frame=\"galactic\")\n",
    "pointing = FixedPointingInfo(\n",
    "    fixed_icrs=SkyCoord(107.65, -40.17, unit=\"deg\", frame=\"galactic\").icrs,\n",
    ")"
   ]
  },
  {
   "cell_type": "markdown",
   "id": "8d9aec9b-9f38-4f9b-903e-e5189c7edf6c",
   "metadata": {},
   "source": [
    "The time series generated via EMM is taken as a LightCurveTemplateTemporalModel"
   ]
  },
  {
   "cell_type": "code",
   "execution_count": null,
   "id": "c900eb8e-87ce-4771-8ccc-db627c7a541f",
   "metadata": {},
   "outputs": [],
   "source": [
    "gti_t0 = tref\n",
    "\n",
    "spectral_model = PowerLawSpectralModel(amplitude  = 1e-10 * u.TeV**-1 * u.cm**-2 * u.s**-1)\n",
    "\n",
    "m = RegionNDMap.create(\n",
    "    region=PointSkyRegion(center=pointing_position),\n",
    "    axes=[time_axis],\n",
    "    unit=\"cm-2s-1TeV-1\",\n",
    ")\n",
    "\n",
    "m.quantity = lctk2\n",
    "\n",
    "temporal_model = LightCurveTemplateTemporalModel(m, t_ref=gti_t0)\n",
    "\n",
    "model_simu = SkyModel(\n",
    "    spectral_model=spectral_model,\n",
    "    temporal_model=temporal_model,\n",
    "    name=\"model-simu\",\n",
    ")"
   ]
  },
  {
   "cell_type": "markdown",
   "id": "7ccc6acb-5054-4879-bba9-ae0bd14e6b02",
   "metadata": {},
   "source": [
    "Observation timing setup and simulation fo the datasets. The \"observational\" sampling is taken to be much sparser than the synthetic lightcurve, to avoid aliasing."
   ]
  },
  {
   "cell_type": "code",
   "execution_count": null,
   "id": "bd889da2-54be-461f-b9a4-a34959e994a7",
   "metadata": {},
   "outputs": [],
   "source": [
    "lvtm = 10 * u.min\n",
    "tstart = gti_t0 + np.arange(npoints/10)*lvtm\n",
    "altaz = pointing_position.transform_to(AltAz(obstime = tstart, location = observatory_locations[\"cta_south\"]))"
   ]
  },
  {
   "cell_type": "code",
   "execution_count": null,
   "id": "f142057c-852f-4605-88d3-b27d63417803",
   "metadata": {},
   "outputs": [],
   "source": [
    "datasets = Datasets()\n",
    "\n",
    "empty = SpectrumDataset.create(\n",
    "geom=geom, energy_axis_true=energy_axis_true, name=\"empty\"\n",
    ")\n",
    "\n",
    "maker = SpectrumDatasetMaker(selection=[\"exposure\", \"background\", \"edisp\"])\n",
    "\n",
    "for idx in range(len(tstart)):\n",
    "    obs = Observation.create(\n",
    "        pointing=pointing,\n",
    "        livetime=lvtm,\n",
    "        tstart=tstart[idx],\n",
    "        irfs=irfs,\n",
    "        reference_time=gti_t0,\n",
    "        obs_id=idx,\n",
    "        location=observatory_locations[\"cta_south\"],\n",
    "    )\n",
    "    empty_i = empty.copy(name=f\"dataset-{idx}\")\n",
    "    dataset = maker.run(empty_i, obs)\n",
    "    dataset.models = model_simu\n",
    "    dataset.fake()\n",
    "    datasets.append(dataset)\n",
    "\n",
    "\n",
    "spectral_model = PowerLawSpectralModel(amplitude  = 7e-11 * u.TeV**-1 * u.cm**-2 * u.s**-1)\n",
    "model_fit = SkyModel(spectral_model=spectral_model, name=\"model-fit\")\n",
    "datasets.models = model_fit"
   ]
  },
  {
   "cell_type": "markdown",
   "id": "725f0466-21c4-4da2-a5da-21486ef0a43d",
   "metadata": {},
   "source": [
    "Lightcurve estimator setup and run."
   ]
  },
  {
   "cell_type": "code",
   "execution_count": null,
   "id": "6150efce-4ced-4237-bf53-12fbd5fe9a30",
   "metadata": {},
   "outputs": [],
   "source": [
    "lc_maker_1d = LightCurveEstimator(\n",
    "    energy_edges=[0.1, 100] * u.TeV,\n",
    "    source=\"model-fit\",\n",
    "    selection_optional=[\"ul\"],\n",
    ")\n",
    "\n",
    "lc_1d = lc_maker_1d.run(datasets)\n",
    "lc_1d.plot();"
   ]
  },
  {
   "cell_type": "markdown",
   "id": "b27cd811-a990-48c1-93af-baee1198432c",
   "metadata": {},
   "source": [
    "Assessment of the properties of the \"observed\" lightcurve in the time and frequency domain."
   ]
  },
  {
   "cell_type": "code",
   "execution_count": null,
   "id": "e2ee2f7b-c8ee-4251-b276-75d4cd247b66",
   "metadata": {},
   "outputs": [],
   "source": [
    "data = lc_1d.norm.data.flatten()\n",
    "dmean = data.mean()\n",
    "dstd = data.std()\n",
    "dnpoints = len(data)\n",
    "dtimes = lc_1d.geom.axes[\"time\"].edges\n",
    "dsmax = np.diff(dtimes).max()\n",
    "ffreqs, pgram = periodogram(data, 1/dsmax.value)\n",
    "coeff = np.polyfit(np.log(ffreqs[1:]), np.log(pgram[1:]), 1)\n",
    "print(coeff[0])\n",
    "plt.loglog(ffreqs[1:], pgram[1:])"
   ]
  },
  {
   "cell_type": "markdown",
   "id": "759e1ddd-98dc-4854-8ba7-c1e58facbb87",
   "metadata": {},
   "source": [
    "### Fitting ###\n",
    "\n",
    "The x2_fit function is used as a cost function with the scipy minimizer, providing a fit of the spectral index for the \"observed\" lightcurve assuming a power-law PSD. "
   ]
  },
  {
   "cell_type": "code",
   "execution_count": null,
   "id": "b08789fe-2a0a-4056-8b38-1aaea9946059",
   "metadata": {
    "tags": [
     "nbsphinx-thumbnail"
    ]
   },
   "outputs": [],
   "source": [
    "%%time\n",
    "initial_pars = [-2]\n",
    "results = minimize(x2_fit, initial_pars, args=(pgram[1:], dnpoints, dsmax, pl, lognorm.pdf, ln_params, \"EMM\", 10000, dmean, dstd, False), method=\"Powell\", options={\"disp\": True})\n",
    "print(results)\n",
    "envelopes, freqs = lightcurve_psd_envelope(pl, dnpoints, dsmax, psd_params={\"index\": results.x}, simulator=\"EMM\", pdf = lognorm.pdf, pdf_params = ln_params , nsims=10000, mean=dmean, std=dstd, poisson=False)\n",
    "plt.violinplot(envelopes, freqs, widths=np.diff(freqs).min(), showmedians=True);\n",
    "plt.plot(freqs, pgram[1:], linewidth=0.7, marker=\"d\")\n",
    "plt.yscale(\"log\")\n",
    "plt.show()"
   ]
  },
  {
   "cell_type": "code",
   "execution_count": null,
   "id": "939d6039",
   "metadata": {},
   "outputs": [],
   "source": []
  }
 ],
 "metadata": {
  "kernelspec": {
   "display_name": "Python 3 (ipykernel)",
   "language": "python",
   "name": "python3"
  },
  "language_info": {
   "codemirror_mode": {
    "name": "ipython",
    "version": 3
   },
   "file_extension": ".py",
   "mimetype": "text/x-python",
   "name": "python",
   "nbconvert_exporter": "python",
   "pygments_lexer": "ipython3",
   "version": "3.11.9"
  }
 },
 "nbformat": 4,
 "nbformat_minor": 5
}
